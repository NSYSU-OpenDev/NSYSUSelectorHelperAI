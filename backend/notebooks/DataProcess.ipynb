{
 "cells": [
  {
   "cell_type": "code",
   "id": "initial_id",
   "metadata": {
    "collapsed": true,
    "ExecuteTime": {
     "end_time": "2024-12-17T03:06:55.882391Z",
     "start_time": "2024-12-17T03:06:55.879384Z"
    }
   },
   "source": "import pandas as pd",
   "outputs": [],
   "execution_count": 25
  },
  {
   "metadata": {
    "ExecuteTime": {
     "end_time": "2024-12-17T03:06:55.953867Z",
     "start_time": "2024-12-17T03:06:55.903342Z"
    }
   },
   "cell_type": "code",
   "source": [
    "course_data = pd.read_csv('../src/data/courses.csv')\n",
    "course_data.head()"
   ],
   "id": "c779f7a5f9ea5466",
   "outputs": [
    {
     "data": {
      "text/plain": [
       "                                                 url change changeDescription  \\\n",
       "0  https://selcrs.nsysu.edu.tw/menu5/showoutline....     新增              7/15   \n",
       "1  https://selcrs.nsysu.edu.tw/menu5/showoutline....    NaN               NaN   \n",
       "2  https://selcrs.nsysu.edu.tw/menu5/showoutline....     異動          更換教室9/16   \n",
       "3  https://selcrs.nsysu.edu.tw/menu5/showoutline....    NaN               NaN   \n",
       "4  https://selcrs.nsysu.edu.tw/menu5/showoutline....    NaN               NaN   \n",
       "\n",
       "   multipleCompulsory department      id  grade class  \\\n",
       "0               False       中學學程  STP101      0   不分班   \n",
       "1               False       中學學程  STP104      0   不分班   \n",
       "2               False       中學學程  STP117      0   不分班   \n",
       "3               False       中學學程  STP118      0   不分班   \n",
       "4               False       中學學程  STP120      0   不分班   \n",
       "\n",
       "                                         name  credit  ... selected  \\\n",
       "0               教育心理學\\nEDUCATIONAL PSYCHOLOGY     2.0  ...       37   \n",
       "1                教學原理\\nPRINCIPLES OF TEACHING     2.0  ...       47   \n",
       "2                  班級經營\\nCLASSROOM MANAGEMENT     2.0  ...       47   \n",
       "3  課程發展與設計\\nCURRICULUM DEVELOPMENT AND DESIGN     2.0  ...       23   \n",
       "4               青少年心理學\\nADOLESCENT PSYCHOLOGY     2.0  ...       37   \n",
       "\n",
       "   remaining  teacher            room                       classTime  \\\n",
       "0         13      馮雅群  三5,6(社SS 2001)  ['', '', '56', '', '', '', '']   \n",
       "1          3      張至慶  四6,7(社SS 2006)  ['', '', '', '67', '', '', '']   \n",
       "2          3      陳利銘  四3,4(社SS 2001)  ['', '', '', '34', '', '', '']   \n",
       "3         27      周珮儀  二6,7(社SS 2006)  ['', '67', '', '', '', '', '']   \n",
       "4         13      邱文彬  一3,4(社SS 2005)  ['34', '', '', '', '', '', '']   \n",
       "\n",
       "              description        tags english  \\\n",
       "0       《講授類》\\n本課程為教育學程課程          []   False   \n",
       "1  《講授類》\\n本課程為教育專業課程，雙語授課          []   False   \n",
       "2       《講授類》\\n本課程為教育學程課程          []   False   \n",
       "3       《講授類》\\n本課程為教育學程課程  ['環境教育學程']   False   \n",
       "4       《講授類》\\n本課程為教育學程課程          []   False   \n",
       "\n",
       "                                            syllabus  \\\n",
       "0  本課程教學大綱已提供完整英文資訊（本選項僅供統計使用，未提供完整英文資訊者，得免勾記）【Pr...   \n",
       "1  \\\\140.117.152.55\\crs_net_data\\crs_outline\\1131...   \n",
       "2  本課程將選擇希臘悲劇、喜劇、莎士比亞悲劇以及中國傳統戲曲中的經典劇目（若課堂時間足夠亦補充日...   \n",
       "3  本課程教學大綱已提供完整英文資訊（本選項僅供統計使用，未提供完整英文資訊者，得免勾記）【Pr...   \n",
       "4  本課程教學大綱已提供完整英文資訊（本選項僅供統計使用，未提供完整英文資訊者，得免勾記）【Pr...   \n",
       "\n",
       "                                          objectives  \n",
       "0  Preview the current topics in the area of info...  \n",
       "1             1.終身運動觀念的建立2.正確安全地從事運動3.各項競技運動技術的掌握與理解  \n",
       "2  藉由研讀、觀賞與討論東西方經典劇目了解東西方戲劇的特質差異，進而探究造成差異的深層文化背景，...  \n",
       "3  This course aims to provide students with a so...  \n",
       "4  This is a follow-up course of Financial Manage...  \n",
       "\n",
       "[5 rows x 24 columns]"
      ],
      "text/html": [
       "<div>\n",
       "<style scoped>\n",
       "    .dataframe tbody tr th:only-of-type {\n",
       "        vertical-align: middle;\n",
       "    }\n",
       "\n",
       "    .dataframe tbody tr th {\n",
       "        vertical-align: top;\n",
       "    }\n",
       "\n",
       "    .dataframe thead th {\n",
       "        text-align: right;\n",
       "    }\n",
       "</style>\n",
       "<table border=\"1\" class=\"dataframe\">\n",
       "  <thead>\n",
       "    <tr style=\"text-align: right;\">\n",
       "      <th></th>\n",
       "      <th>url</th>\n",
       "      <th>change</th>\n",
       "      <th>changeDescription</th>\n",
       "      <th>multipleCompulsory</th>\n",
       "      <th>department</th>\n",
       "      <th>id</th>\n",
       "      <th>grade</th>\n",
       "      <th>class</th>\n",
       "      <th>name</th>\n",
       "      <th>credit</th>\n",
       "      <th>...</th>\n",
       "      <th>selected</th>\n",
       "      <th>remaining</th>\n",
       "      <th>teacher</th>\n",
       "      <th>room</th>\n",
       "      <th>classTime</th>\n",
       "      <th>description</th>\n",
       "      <th>tags</th>\n",
       "      <th>english</th>\n",
       "      <th>syllabus</th>\n",
       "      <th>objectives</th>\n",
       "    </tr>\n",
       "  </thead>\n",
       "  <tbody>\n",
       "    <tr>\n",
       "      <th>0</th>\n",
       "      <td>https://selcrs.nsysu.edu.tw/menu5/showoutline....</td>\n",
       "      <td>新增</td>\n",
       "      <td>7/15</td>\n",
       "      <td>False</td>\n",
       "      <td>中學學程</td>\n",
       "      <td>STP101</td>\n",
       "      <td>0</td>\n",
       "      <td>不分班</td>\n",
       "      <td>教育心理學\\nEDUCATIONAL PSYCHOLOGY</td>\n",
       "      <td>2.0</td>\n",
       "      <td>...</td>\n",
       "      <td>37</td>\n",
       "      <td>13</td>\n",
       "      <td>馮雅群</td>\n",
       "      <td>三5,6(社SS 2001)</td>\n",
       "      <td>['', '', '56', '', '', '', '']</td>\n",
       "      <td>《講授類》\\n本課程為教育學程課程</td>\n",
       "      <td>[]</td>\n",
       "      <td>False</td>\n",
       "      <td>本課程教學大綱已提供完整英文資訊（本選項僅供統計使用，未提供完整英文資訊者，得免勾記）【Pr...</td>\n",
       "      <td>Preview the current topics in the area of info...</td>\n",
       "    </tr>\n",
       "    <tr>\n",
       "      <th>1</th>\n",
       "      <td>https://selcrs.nsysu.edu.tw/menu5/showoutline....</td>\n",
       "      <td>NaN</td>\n",
       "      <td>NaN</td>\n",
       "      <td>False</td>\n",
       "      <td>中學學程</td>\n",
       "      <td>STP104</td>\n",
       "      <td>0</td>\n",
       "      <td>不分班</td>\n",
       "      <td>教學原理\\nPRINCIPLES OF TEACHING</td>\n",
       "      <td>2.0</td>\n",
       "      <td>...</td>\n",
       "      <td>47</td>\n",
       "      <td>3</td>\n",
       "      <td>張至慶</td>\n",
       "      <td>四6,7(社SS 2006)</td>\n",
       "      <td>['', '', '', '67', '', '', '']</td>\n",
       "      <td>《講授類》\\n本課程為教育專業課程，雙語授課</td>\n",
       "      <td>[]</td>\n",
       "      <td>False</td>\n",
       "      <td>\\\\140.117.152.55\\crs_net_data\\crs_outline\\1131...</td>\n",
       "      <td>1.終身運動觀念的建立2.正確安全地從事運動3.各項競技運動技術的掌握與理解</td>\n",
       "    </tr>\n",
       "    <tr>\n",
       "      <th>2</th>\n",
       "      <td>https://selcrs.nsysu.edu.tw/menu5/showoutline....</td>\n",
       "      <td>異動</td>\n",
       "      <td>更換教室9/16</td>\n",
       "      <td>False</td>\n",
       "      <td>中學學程</td>\n",
       "      <td>STP117</td>\n",
       "      <td>0</td>\n",
       "      <td>不分班</td>\n",
       "      <td>班級經營\\nCLASSROOM MANAGEMENT</td>\n",
       "      <td>2.0</td>\n",
       "      <td>...</td>\n",
       "      <td>47</td>\n",
       "      <td>3</td>\n",
       "      <td>陳利銘</td>\n",
       "      <td>四3,4(社SS 2001)</td>\n",
       "      <td>['', '', '', '34', '', '', '']</td>\n",
       "      <td>《講授類》\\n本課程為教育學程課程</td>\n",
       "      <td>[]</td>\n",
       "      <td>False</td>\n",
       "      <td>本課程將選擇希臘悲劇、喜劇、莎士比亞悲劇以及中國傳統戲曲中的經典劇目（若課堂時間足夠亦補充日...</td>\n",
       "      <td>藉由研讀、觀賞與討論東西方經典劇目了解東西方戲劇的特質差異，進而探究造成差異的深層文化背景，...</td>\n",
       "    </tr>\n",
       "    <tr>\n",
       "      <th>3</th>\n",
       "      <td>https://selcrs.nsysu.edu.tw/menu5/showoutline....</td>\n",
       "      <td>NaN</td>\n",
       "      <td>NaN</td>\n",
       "      <td>False</td>\n",
       "      <td>中學學程</td>\n",
       "      <td>STP118</td>\n",
       "      <td>0</td>\n",
       "      <td>不分班</td>\n",
       "      <td>課程發展與設計\\nCURRICULUM DEVELOPMENT AND DESIGN</td>\n",
       "      <td>2.0</td>\n",
       "      <td>...</td>\n",
       "      <td>23</td>\n",
       "      <td>27</td>\n",
       "      <td>周珮儀</td>\n",
       "      <td>二6,7(社SS 2006)</td>\n",
       "      <td>['', '67', '', '', '', '', '']</td>\n",
       "      <td>《講授類》\\n本課程為教育學程課程</td>\n",
       "      <td>['環境教育學程']</td>\n",
       "      <td>False</td>\n",
       "      <td>本課程教學大綱已提供完整英文資訊（本選項僅供統計使用，未提供完整英文資訊者，得免勾記）【Pr...</td>\n",
       "      <td>This course aims to provide students with a so...</td>\n",
       "    </tr>\n",
       "    <tr>\n",
       "      <th>4</th>\n",
       "      <td>https://selcrs.nsysu.edu.tw/menu5/showoutline....</td>\n",
       "      <td>NaN</td>\n",
       "      <td>NaN</td>\n",
       "      <td>False</td>\n",
       "      <td>中學學程</td>\n",
       "      <td>STP120</td>\n",
       "      <td>0</td>\n",
       "      <td>不分班</td>\n",
       "      <td>青少年心理學\\nADOLESCENT PSYCHOLOGY</td>\n",
       "      <td>2.0</td>\n",
       "      <td>...</td>\n",
       "      <td>37</td>\n",
       "      <td>13</td>\n",
       "      <td>邱文彬</td>\n",
       "      <td>一3,4(社SS 2005)</td>\n",
       "      <td>['34', '', '', '', '', '', '']</td>\n",
       "      <td>《講授類》\\n本課程為教育學程課程</td>\n",
       "      <td>[]</td>\n",
       "      <td>False</td>\n",
       "      <td>本課程教學大綱已提供完整英文資訊（本選項僅供統計使用，未提供完整英文資訊者，得免勾記）【Pr...</td>\n",
       "      <td>This is a follow-up course of Financial Manage...</td>\n",
       "    </tr>\n",
       "  </tbody>\n",
       "</table>\n",
       "<p>5 rows × 24 columns</p>\n",
       "</div>"
      ]
     },
     "execution_count": 26,
     "metadata": {},
     "output_type": "execute_result"
    }
   ],
   "execution_count": 26
  },
  {
   "metadata": {
    "ExecuteTime": {
     "end_time": "2024-12-17T03:06:55.994832Z",
     "start_time": "2024-12-17T03:06:55.989692Z"
    }
   },
   "cell_type": "code",
   "source": [
    "# Check for empty string in objectives and syllabus\n",
    "course_data[course_data['objectives'] != '']['objectives']"
   ],
   "id": "5e13edb295781888",
   "outputs": [
    {
     "data": {
      "text/plain": [
       "0       Preview the current topics in the area of info...\n",
       "1                  1.終身運動觀念的建立2.正確安全地從事運動3.各項競技運動技術的掌握與理解\n",
       "2       藉由研讀、觀賞與討論東西方經典劇目了解東西方戲劇的特質差異，進而探究造成差異的深層文化背景，...\n",
       "3       This course aims to provide students with a so...\n",
       "4       This is a follow-up course of Financial Manage...\n",
       "                              ...                        \n",
       "2568    After completing this course the student shoul...\n",
       "2569                                                依規定免登\n",
       "2570    This course will introduce various prevalent f...\n",
       "2571                                                  NaN\n",
       "2572    1 培養健康的歌唱與發聲習慣與方法2 認識各類合唱音樂之風格3 學習團體歌唱之技巧：如何以聆...\n",
       "Name: objectives, Length: 2573, dtype: object"
      ]
     },
     "execution_count": 27,
     "metadata": {},
     "output_type": "execute_result"
    }
   ],
   "execution_count": 27
  },
  {
   "metadata": {},
   "cell_type": "markdown",
   "source": [
    "本課程教學大綱已提供完整英文資訊（本選項僅供統計使用，未提供完整英文資訊者，得免勾記）【Provide information of course syllabus in English.(This is for statistical use only. For those who do not provide information of course syllabus in English, do not check this field.)】\\\\140.117.152.55\\crs_net_data\\crs_outline\\1131\\outline\\FM203.TXTFinancial accounting is the branch of accounting that focuses on producing information for external users of financial reports, such as shareholders and lenders. The information generated by the financial reporting system is essential for the efficient operation of global financial markets.This course is designed to develop the problem-solving and research skills necessary to understand issues related to the collection, reporting, and analysis of financial accounting information from the preparer’s perspective for decision-making. It aims to provide an in-depth exploration of financial accounting, including the preparation of financial statements involving more complex economic events and the recognition of assets. The course equips students with the knowledge and skills needed to advance to further studies in financial reporting.\n",
    "\n",
    "本課程教學大綱已提供完整英文資訊（本選項僅供統計使用，未提供完整英文資訊者，得免勾記）【Provide information of course syllabus in English.(This is for statistical use only. For those who do not provide information of course syllabus in English, do not check this field.)】Introduction to current topics in information management"
   ],
   "id": "c8842cf6c69b9eb5"
  },
  {
   "metadata": {
    "ExecuteTime": {
     "end_time": "2024-12-17T03:06:56.060128Z",
     "start_time": "2024-12-17T03:06:56.053802Z"
    }
   },
   "cell_type": "code",
   "source": "course_data[course_data['syllabus'] != '']['syllabus']",
   "id": "a472c3c06b6d0f4d",
   "outputs": [
    {
     "data": {
      "text/plain": [
       "0       本課程教學大綱已提供完整英文資訊（本選項僅供統計使用，未提供完整英文資訊者，得免勾記）【Pr...\n",
       "1       \\\\140.117.152.55\\crs_net_data\\crs_outline\\1131...\n",
       "2       本課程將選擇希臘悲劇、喜劇、莎士比亞悲劇以及中國傳統戲曲中的經典劇目（若課堂時間足夠亦補充日...\n",
       "3       本課程教學大綱已提供完整英文資訊（本選項僅供統計使用，未提供完整英文資訊者，得免勾記）【Pr...\n",
       "4       本課程教學大綱已提供完整英文資訊（本選項僅供統計使用，未提供完整英文資訊者，得免勾記）【Pr...\n",
       "                              ...                        \n",
       "2568    1. Introduction and Microstructure2. Polymer S...\n",
       "2569                                                依規定免登\n",
       "2570    本課程教學大綱已提供完整英文資訊（本選項僅供統計使用，未提供完整英文資訊者，得免勾記）【Pr...\n",
       "2571    本課程教學大綱已提供完整英文資訊（本選項僅供統計使用，未提供完整英文資訊者，得免勾記）【Pr...\n",
       "2572              訓練演唱能力、聽力、團體歌唱技巧以及鑑賞力，並擴展對不同時代曲目的詮釋力能力。\n",
       "Name: syllabus, Length: 2573, dtype: object"
      ]
     },
     "execution_count": 28,
     "metadata": {},
     "output_type": "execute_result"
    }
   ],
   "execution_count": 28
  },
  {
   "metadata": {
    "ExecuteTime": {
     "end_time": "2024-12-17T03:06:56.146043Z",
     "start_time": "2024-12-17T03:06:56.136969Z"
    }
   },
   "cell_type": "code",
   "source": [
    "# Clean the data\n",
    "course_data['syllabus'] = course_data['syllabus'].apply(lambda x: str(x).replace('【Provide information of course syllabus in English.(This is for statistical use only. For those who do not provide information of course syllabus in English, do not check this field.)】', ''))\n",
    "\n",
    "course_data['syllabus'] = course_data['syllabus'].apply(lambda x: str(x).replace('本課程教學大綱已提供完整英文資訊（本選項僅供統計使用，未提供完整英文資訊者，得免勾記）', ''))\n",
    "\n",
    "course_data[course_data['syllabus'] != '']['syllabus']"
   ],
   "id": "9f2335a6209b33a",
   "outputs": [
    {
     "data": {
      "text/plain": [
       "0       Introduction to current topics in information ...\n",
       "1       \\\\140.117.152.55\\crs_net_data\\crs_outline\\1131...\n",
       "2       本課程將選擇希臘悲劇、喜劇、莎士比亞悲劇以及中國傳統戲曲中的經典劇目（若課堂時間足夠亦補充日...\n",
       "3       \\\\140.117.152.55\\crs_net_data\\crs_outline\\1131...\n",
       "4       \\\\140.117.152.55\\crs_net_data\\crs_outline\\1131...\n",
       "                              ...                        \n",
       "2568    1. Introduction and Microstructure2. Polymer S...\n",
       "2569                                                依規定免登\n",
       "2570    (1) ETF market(2) Foreign exchange(3) Digital ...\n",
       "2571                Independent study of master students.\n",
       "2572              訓練演唱能力、聽力、團體歌唱技巧以及鑑賞力，並擴展對不同時代曲目的詮釋力能力。\n",
       "Name: syllabus, Length: 2573, dtype: object"
      ]
     },
     "execution_count": 29,
     "metadata": {},
     "output_type": "execute_result"
    }
   ],
   "execution_count": 29
  },
  {
   "metadata": {
    "ExecuteTime": {
     "end_time": "2024-12-17T03:12:23.293920Z",
     "start_time": "2024-12-17T03:12:23.281928Z"
    }
   },
   "cell_type": "code",
   "source": [
    "import re\n",
    "\n",
    "def clean_syllabus(text: str) -> str:\n",
    "    # Step 1: Remove file paths\n",
    "    text = re.sub(r'\\\\\\\\[^\\s]+\\.TXT', '', text)\n",
    "\n",
    "    # Step 2: Remove leading numeric indices (e.g., \"1,0,\" or \"2,1,\")\n",
    "    text = re.sub(r'^\\d+,\\d+,?', '', text)\n",
    "\n",
    "    # Step 3: Strip any surrounding whitespaces\n",
    "    text = text.strip()\n",
    "    \n",
    "    return text\n",
    "\n",
    "course_data['syllabus'] = course_data['syllabus'].apply(clean_syllabus)\n",
    "\n",
    "course_data[course_data['syllabus'] != '']['syllabus']"
   ],
   "id": "9a433e5de7357f3d",
   "outputs": [
    {
     "data": {
      "text/plain": [
       "0       Introduction to current topics in information ...\n",
       "1       1.基本認知：各項競技運動規則、熱身方法、傷害預防與簡易處理2.實際演練：基本技術的練習、結...\n",
       "2       本課程將選擇希臘悲劇、喜劇、莎士比亞悲劇以及中國傳統戲曲中的經典劇目（若課堂時間足夠亦補充日...\n",
       "3       Financial accounting is the branch of accounti...\n",
       "4       Investment decisionInvestmentsFinancingCapital...\n",
       "                              ...                        \n",
       "2568    1. Introduction and Microstructure2. Polymer S...\n",
       "2569                                                依規定免登\n",
       "2570    (1) ETF market(2) Foreign exchange(3) Digital ...\n",
       "2571                Independent study of master students.\n",
       "2572              訓練演唱能力、聽力、團體歌唱技巧以及鑑賞力，並擴展對不同時代曲目的詮釋力能力。\n",
       "Name: syllabus, Length: 2573, dtype: object"
      ]
     },
     "execution_count": 30,
     "metadata": {},
     "output_type": "execute_result"
    }
   ],
   "execution_count": 30
  },
  {
   "metadata": {},
   "cell_type": "code",
   "outputs": [],
   "execution_count": null,
   "source": "",
   "id": "8aed4bf6c6e19192"
  }
 ],
 "metadata": {
  "kernelspec": {
   "display_name": "Python 3",
   "language": "python",
   "name": "python3"
  },
  "language_info": {
   "codemirror_mode": {
    "name": "ipython",
    "version": 2
   },
   "file_extension": ".py",
   "mimetype": "text/x-python",
   "name": "python",
   "nbconvert_exporter": "python",
   "pygments_lexer": "ipython2",
   "version": "2.7.6"
  }
 },
 "nbformat": 4,
 "nbformat_minor": 5
}
